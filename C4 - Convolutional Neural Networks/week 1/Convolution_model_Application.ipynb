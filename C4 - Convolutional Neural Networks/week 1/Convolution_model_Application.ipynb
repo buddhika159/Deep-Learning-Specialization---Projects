{
 "cells": [
  {
   "cell_type": "markdown",
   "metadata": {},
   "source": [
    "# Convolutional Neural Networks: Application\n",
    "\n",
    "Welcome to Course 4's second assignment! In this notebook, you will:\n",
    "\n",
    "- Create a mood classifer using the TF Keras Sequential API\n",
    "- Build a ConvNet to identify sign language digits using the TF Keras Functional API\n",
    "\n",
    "**After this assignment you will be able to:**\n",
    "\n",
    "- Build and train a ConvNet in TensorFlow for a __binary__ classification problem\n",
    "- Build and train a ConvNet in TensorFlow for a __multiclass__ classification problem\n",
    "- Explain different use cases for the Sequential and Functional APIs\n",
    "\n",
    "To complete this assignment, you should already be familiar with TensorFlow. If you are not, please refer back to the **TensorFlow Tutorial** of the third week of Course 2 (\"**Improving deep neural networks**\")."
   ]
  },
  {
   "cell_type": "markdown",
   "metadata": {},
   "source": [
    "## Table of Contents\n",
    "\n",
    "- [1 - Packages](#1)\n",
    "    - [1.1 - Load the Data and Split the Data into Train/Test Sets](#1-1)\n",
    "- [2 - Layers in TF Keras](#2)\n",
    "- [3 - The Sequential API](#3)\n",
    "    - [3.1 - Create the Sequential Model](#3-1)\n",
    "        - [Exercise 1 - happyModel](#ex-1)\n",
    "    - [3.2 - Train and Evaluate the Model](#3-2)\n",
    "- [4 - The Functional API](#4)\n",
    "    - [4.1 - Load the SIGNS Dataset](#4-1)\n",
    "    - [4.2 - Split the Data into Train/Test Sets](#4-2)\n",
    "    - [4.3 - Forward Propagation](#4-3)\n",
    "        - [Exercise 2 - convolutional_model](#ex-2)\n",
    "    - [4.4 - Train the Model](#4-4)\n",
    "- [5 - History Object](#5)\n",
    "- [6 - Bibliography](#6)"
   ]
  },
  {
   "cell_type": "markdown",
   "metadata": {},
   "source": [
    "<a name='1'></a>\n",
    "## 1 - Packages\n",
    "\n",
    "As usual, begin by loading in the packages."
   ]
  },
  {
   "cell_type": "code",
   "execution_count": 3,
   "metadata": {},
   "outputs": [],
   "source": [
    "import math\n",
    "import numpy as np\n",
    "import h5py\n",
    "import matplotlib.pyplot as plt\n",
    "from matplotlib.pyplot import imread\n",
    "import scipy\n",
    "from PIL import Image\n",
    "import pandas as pd\n",
    "import tensorflow as tf\n",
    "import tensorflow.keras.layers as tfl\n",
    "from tensorflow.python.framework import ops\n",
    "from cnn_utils import *\n",
    "from test_utils import summary, comparator\n",
    "\n",
    "%matplotlib inline\n",
    "np.random.seed(1)"
   ]
  },
  {
   "cell_type": "markdown",
   "metadata": {},
   "source": [
    "<a name='1-1'></a>\n",
    "### 1.1 - Load the Data and Split the Data into Train/Test Sets\n",
    "\n",
    "You'll be using the Happy House dataset for this part of the assignment, which contains images of peoples' faces. Your task will be to build a ConvNet that determines whether the people in the images are smiling or not -- because they only get to enter the house if they're smiling!  "
   ]
  },
  {
   "cell_type": "code",
   "execution_count": 4,
   "metadata": {},
   "outputs": [
    {
     "name": "stdout",
     "output_type": "stream",
     "text": [
      "number of training examples = 600\n",
      "number of test examples = 150\n",
      "X_train shape: (600, 64, 64, 3)\n",
      "Y_train shape: (600, 1)\n",
      "X_test shape: (150, 64, 64, 3)\n",
      "Y_test shape: (150, 1)\n"
     ]
    }
   ],
   "source": [
    "X_train_orig, Y_train_orig, X_test_orig, Y_test_orig, classes = load_happy_dataset()\n",
    "\n",
    "# Normalize image vectors\n",
    "X_train = X_train_orig/255.\n",
    "X_test = X_test_orig/255.\n",
    "\n",
    "# Reshape\n",
    "Y_train = Y_train_orig.T\n",
    "Y_test = Y_test_orig.T\n",
    "\n",
    "print (\"number of training examples = \" + str(X_train.shape[0]))\n",
    "print (\"number of test examples = \" + str(X_test.shape[0]))\n",
    "print (\"X_train shape: \" + str(X_train.shape))\n",
    "print (\"Y_train shape: \" + str(Y_train.shape))\n",
    "print (\"X_test shape: \" + str(X_test.shape))\n",
    "print (\"Y_test shape: \" + str(Y_test.shape))"
   ]
  },
  {
   "cell_type": "markdown",
   "metadata": {},
   "source": [
    "You can display the images contained in the dataset. Images are **64x64** pixels in RGB format (3 channels)."
   ]
  },
  {
   "cell_type": "code",
   "execution_count": 5,
   "metadata": {},
   "outputs": [
    {
     "data": {
      "image/png": "[encoded data removed]",
      "text/plain": [
       "<Figure size 432x288 with 1 Axes>"
      ]
     },
     "metadata": {
      "needs_background": "light"
     },
     "output_type": "display_data"
    }
   ],
   "source": [
    "index = 124\n",
    "plt.imshow(X_train_orig[index]) #display sample training image\n",
    "plt.show()"
   ]
  },
  {
   "cell_type": "markdown",
   "metadata": {},
   "source": [
    "<a name='2'></a>\n",
    "## 2 - Layers in TF Keras \n",
    "\n",
    "In the previous assignment, you created layers manually in numpy. In TF Keras, you don't have to write code directly to create layers. Rather, TF Keras has pre-defined layers you can use. \n",
    "\n",
    "When you create a layer in TF Keras, you are creating a function that takes some input and transforms it into an output you can reuse later. Nice and easy! "
   ]
  },
  {
   "cell_type": "markdown",
   "metadata": {},
   "source": [
    "<a name='3'></a>\n",
    "## 3 - The Sequential API\n",
    "\n",
    "In the previous assignment, you built helper functions using `numpy` to understand the mechanics behind convolutional neural networks. Most practical applications of deep learning today are built using programming frameworks, which have many built-in functions you can simply call. Keras is a high-level abstraction built on top of TensorFlow, which allows for even more simplified and optimized model creation and training. \n",
    "\n",
    "For the first part of this assignment, you'll create a model using TF Keras' Sequential API, which allows you to build layer by layer, and is ideal for building models where each layer has **exactly one** input tensor and **one** output tensor. \n",
    "\n",
    "As you'll see, using the Sequential API is simple and straightforward, but is only appropriate for simpler, more straightforward tasks. Later in this notebook you'll spend some time building with a more flexible, powerful alternative: the Functional API. \n",
    " "
   ]
  },
  {
   "cell_type": "markdown",
   "metadata": {},
   "source": [
    "<a name='3-1'></a>\n",
    "### 3.1 - Create the Sequential Model\n",
    "\n",
    "As mentioned earlier, the TensorFlow Keras Sequential API can be used to build simple models with layer operations that proceed in a sequential order. \n",
    "\n",
    "You can also add layers incrementally to a Sequential model with the `.add()` method, or remove them using the `.pop()` method, much like you would in a regular Python list.\n",
    "\n",
    "Actually, you can think of a Sequential model as behaving like a list of layers. Like Python lists, Sequential layers are ordered, and the order in which they are specified matters.  If your model is non-linear or contains layers with multiple inputs or outputs, a Sequential model wouldn't be the right choice!\n",
    "\n",
    "For any layer construction in Keras, you'll need to specify the input shape in advance. This is because in Keras, the shape of the weights is based on the shape of the inputs. The weights are only created when the model first sees some input data. Sequential models can be created by passing a list of layers to the Sequential constructor, like you will do in the next assignment.\n",
    "\n",
    "<a name='ex-1'></a>\n",
    "### Exercise 1 - happyModel\n",
    "\n",
    "Implement the `happyModel` function below to build the following model: `ZEROPAD2D -> CONV2D -> BATCHNORM -> RELU -> MAXPOOL -> FLATTEN -> DENSE`. Take help from [tf.keras.layers](https://www.tensorflow.org/api_docs/python/tf/keras/layers) \n",
    "\n",
    "Also, plug in the following parameters for all the steps:\n",
    "\n",
    " - [ZeroPadding2D](https://www.tensorflow.org/api_docs/python/tf/keras/layers/ZeroPadding2D): padding 3, input shape 64 x 64 x 3\n",
    " - [Conv2D](https://www.tensorflow.org/api_docs/python/tf/keras/layers/Conv2D): Use 32 7x7 filters, stride 1\n",
    " - [BatchNormalization](https://www.tensorflow.org/api_docs/python/tf/keras/layers/BatchNormalization): for axis 3\n",
    " - [ReLU](https://www.tensorflow.org/api_docs/python/tf/keras/layers/ReLU)\n",
    " - [MaxPool2D](https://www.tensorflow.org/api_docs/python/tf/keras/layers/MaxPool2D): Using default parameters\n",
    " - [Flatten](https://www.tensorflow.org/api_docs/python/tf/keras/layers/Flatten) the previous output.\n",
    " - Fully-connected ([Dense](https://www.tensorflow.org/api_docs/python/tf/keras/layers/Dense)) layer: Apply a fully connected layer with 1 neuron and a sigmoid activation. \n",
    " \n",
    " \n",
    " **Hint:**\n",
    " \n",
    " Use **tfl** as shorthand for **tensorflow.keras.layers**"
   ]
  },
  {
   "cell_type": "code",
   "execution_count": 6,
   "metadata": {
    "deletable": false,
    "nbgrader": {
     "cell_type": "code",
     "checksum": "95d28b191f257bdd5b70c7b8952559d5",
     "grade": false,
     "grade_id": "cell-0e56d3fc28b69aec",
     "locked": false,
     "schema_version": 3,
     "solution": true,
     "task": false
    }
   },
   "outputs": [],
   "source": [
    "# GRADED FUNCTION: happyModel\n",
    "\n",
    "def happyModel():\n",
    "    \"\"\"\n",
    "    Implements the forward propagation for the binary classification model:\n",
    "    ZEROPAD2D -> CONV2D -> BATCHNORM -> RELU -> MAXPOOL -> FLATTEN -> DENSE\n",
    "    \n",
    "    Note that for simplicity and grading purposes, you'll hard-code all the values\n",
    "    such as the stride and kernel (filter) sizes. \n",
    "    Normally, functions should take these values as function parameters.\n",
    "    \n",
    "    Arguments:\n",
    "    None\n",
    "\n",
    "    Returns:\n",
    "    model -- TF Keras model (object containing the information for the entire training process) \n",
    "    \"\"\"\n",
    "    model = tf.keras.Sequential([\n",
    "            ## ZeroPadding2D with padding 3, input shape of 64 x 64 x 3\n",
    "            \n",
    "            ## Conv2D with 32 7x7 filters and stride of 1\n",
    "            \n",
    "            ## BatchNormalization for axis 3\n",
    "            \n",
    "            ## ReLU\n",
    "            \n",
    "            ## Max Pooling 2D with default parameters\n",
    "            \n",
    "            ## Flatten layer\n",
    "            \n",
    "            ## Dense layer with 1 unit for output & 'sigmoid' activation\n",
    "            \n",
    "            # YOUR CODE STARTS HERE\n",
    "             tf.keras.layers.ZeroPadding2D(padding=(3,3), \n",
    "                         input_shape=(64, 64, 3), data_format=\"channels_last\"),\n",
    "             tf.keras.layers.Conv2D(32, (7, 7), strides = (1, 1), name = 'conv0'),\n",
    "             tf.keras.layers.BatchNormalization(axis = 3, name = 'bn0'),\n",
    "             tf.keras.layers.ReLU(),\n",
    "             tf.keras.layers.MaxPooling2D((2, 2), name='max_pool0'),\n",
    "             tf.keras.layers.Flatten(),\n",
    "             tf.keras.layers.Dense(1, activation='sigmoid', name='fc'),\n",
    "            \n",
    "            # YOUR CODE ENDS HERE\n",
    "        ])\n",
    "    \n",
    "    return model"
   ]
  },
  {
   "cell_type": "code",
   "execution_count": 7,
   "metadata": {
    "deletable": false,
    "editable": false,
    "nbgrader": {
     "cell_type": "code",
     "checksum": "8d3575c950e2e78149be2d05d671c80d",
     "grade": true,
     "grade_id": "cell-e3e1046e5c33d775",
     "locked": true,
     "points": 10,
     "schema_version": 3,
     "solution": false,
     "task": false
    }
   },
   "outputs": [
    {
     "name": "stdout",
     "output_type": "stream",
     "text": [
      "['ZeroPadding2D', (None, 70, 70, 3), 0, ((3, 3), (3, 3))]\n",
      "['Conv2D', (None, 64, 64, 32), 4736, 'valid', 'linear', 'GlorotUniform']\n",
      "['BatchNormalization', (None, 64, 64, 32), 128]\n",
      "['ReLU', (None, 64, 64, 32), 0]\n",
      "['MaxPooling2D', (None, 32, 32, 32), 0, (2, 2), (2, 2), 'valid']\n",
      "['Flatten', (None, 32768), 0]\n",
      "['Dense', (None, 1), 32769, 'sigmoid']\n",
      "\u001b[32mAll tests passed!\u001b[0m\n"
     ]
    }
   ],
   "source": [
    "happy_model = happyModel()\n",
    "# Print a summary for each layer\n",
    "for layer in summary(happy_model):\n",
    "    print(layer)\n",
    "    \n",
    "output = [['ZeroPadding2D', (None, 70, 70, 3), 0, ((3, 3), (3, 3))],\n",
    "            ['Conv2D', (None, 64, 64, 32), 4736, 'valid', 'linear', 'GlorotUniform'],\n",
    "            ['BatchNormalization', (None, 64, 64, 32), 128],\n",
    "            ['ReLU', (None, 64, 64, 32), 0],\n",
    "            ['MaxPooling2D', (None, 32, 32, 32), 0, (2, 2), (2, 2), 'valid'],\n",
    "            ['Flatten', (None, 32768), 0],\n",
    "            ['Dense', (None, 1), 32769, 'sigmoid']]\n",
    "    \n",
    "comparator(summary(happy_model), output)"
   ]
  },
  {
   "cell_type": "markdown",
   "metadata": {},
   "source": [
    "Now that your model is created, you can compile it for training with an optimizer and loss of your choice. When the string `accuracy` is specified as a metric, the type of accuracy used will be automatically converted based on the loss function used. This is one of the many optimizations built into TensorFlow that make your life easier! If you'd like to read more on how the compiler operates, check the docs [here](https://www.tensorflow.org/api_docs/python/tf/keras/Model#compile)."
   ]
  },
  {
   "cell_type": "code",
   "execution_count": 8,
   "metadata": {},
   "outputs": [],
   "source": [
    "happy_model.compile(optimizer='adam',\n",
    "                   loss='binary_crossentropy',\n",
    "                   metrics=['accuracy'])"
   ]
  },
  {
   "cell_type": "markdown",
   "metadata": {},
   "source": [
    "It's time to check your model's parameters with the `.summary()` method. This will display the types of layers you have, the shape of the outputs, and how many parameters are in each layer. "
   ]
  },
  {
   "cell_type": "code",
   "execution_count": 9,
   "metadata": {},
   "outputs": [
    {
     "name": "stdout",
     "output_type": "stream",
     "text": [
      "Model: \"sequential\"\n",
      "_________________________________________________________________\n",
      "Layer (type)                 Output Shape              Param #   \n",
      "=================================================================\n",
      "zero_padding2d (ZeroPadding2 (None, 70, 70, 3)         0         \n",
      "_________________________________________________________________\n",
      "conv0 (Conv2D)               (None, 64, 64, 32)        4736      \n",
      "_________________________________________________________________\n",
      "bn0 (BatchNormalization)     (None, 64, 64, 32)        128       \n",
      "_________________________________________________________________\n",
      "re_lu (ReLU)                 (None, 64, 64, 32)        0         \n",
      "_________________________________________________________________\n",
      "max_pool0 (MaxPooling2D)     (None, 32, 32, 32)        0         \n",
      "_________________________________________________________________\n",
      "flatten (Flatten)            (None, 32768)             0         \n",
      "_________________________________________________________________\n",
      "fc (Dense)                   (None, 1)                 32769     \n",
      "=================================================================\n",
      "Total params: 37,633\n",
      "Trainable params: 37,569\n",
      "Non-trainable params: 64\n",
      "_________________________________________________________________\n"
     ]
    }
   ],
   "source": [
    "happy_model.summary()"
   ]
  },
  {
   "cell_type": "markdown",
   "metadata": {},
   "source": [
    "<a name='3-2'></a>\n",
    "### 3.2 - Train and Evaluate the Model\n",
    "\n",
    "After creating the model, compiling it with your choice of optimizer and loss function, and doing a sanity check on its contents, you are now ready to build! \n",
    "\n",
    "Simply call `.fit()` to train. That's it! No need for mini-batching, saving, or complex backpropagation computations. That's all been done for you, as you're using a TensorFlow dataset with the batches specified already. You do have the option to specify epoch number or minibatch size if you like (for example, in the case of an un-batched dataset)."
   ]
  },
  {
   "cell_type": "code",
   "execution_count": 10,
   "metadata": {},
   "outputs": [
    {
     "name": "stdout",
     "output_type": "stream",
     "text": [
      "Epoch 1/10\n",
      "38/38 [==============================] - 4s 100ms/step - loss: 1.1152 - accuracy: 0.7217\n",
      "Epoch 2/10\n",
      "38/38 [==============================] - 4s 95ms/step - loss: 0.2354 - accuracy: 0.9067\n",
      "Epoch 3/10\n",
      "38/38 [==============================] - 4s 97ms/step - loss: 0.1508 - accuracy: 0.9400\n",
      "Epoch 4/10\n",
      "38/38 [==============================] - 4s 97ms/step - loss: 0.1105 - accuracy: 0.9633\n",
      "Epoch 5/10\n",
      "38/38 [==============================] - 4s 95ms/step - loss: 0.1935 - accuracy: 0.9183\n",
      "Epoch 6/10\n",
      "38/38 [==============================] - 4s 95ms/step - loss: 0.1597 - accuracy: 0.9483\n",
      "Epoch 7/10\n",
      "38/38 [==============================] - 4s 95ms/step - loss: 0.1652 - accuracy: 0.9383\n",
      "Epoch 8/10\n",
      "38/38 [==============================] - 4s 95ms/step - loss: 0.0620 - accuracy: 0.9783\n",
      "Epoch 9/10\n",
      "38/38 [==============================] - 4s 97ms/step - loss: 0.1385 - accuracy: 0.9550\n",
      "Epoch 10/10\n",
      "38/38 [==============================] - 4s 95ms/step - loss: 0.1299 - accuracy: 0.9467\n"
     ]
    },
    {
     "data": {
      "text/plain": [
       "<tensorflow.python.keras.callbacks.History at 0x7f23bcde00d0>"
      ]
     },
     "execution_count": 10,
     "metadata": {},
     "output_type": "execute_result"
    }
   ],
   "source": [
    "happy_model.fit(X_train, Y_train, epochs=10, batch_size=16)"
   ]
  },
  {
   "cell_type": "markdown",
   "metadata": {},
   "source": [
    "After that completes, just use `.evaluate()` to evaluate against your test set. This function will print the value of the loss function and the performance metrics specified during the compilation of the model. In this case, the `binary_crossentropy` and the `accuracy` respectively."
   ]
  },
  {
   "cell_type": "code",
   "execution_count": 11,
   "metadata": {},
   "outputs": [
    {
     "name": "stdout",
     "output_type": "stream",
     "text": [
      "5/5 [==============================] - 0s 34ms/step - loss: 1.9711 - accuracy: 0.6267\n"
     ]
    },
    {
     "data": {
      "text/plain": [
       "[1.9711499214172363, 0.6266666650772095]"
      ]
     },
     "execution_count": 11,
     "metadata": {},
     "output_type": "execute_result"
    }
   ],
   "source": [
    "happy_model.evaluate(X_test, Y_test)"
   ]
  },
  {
   "cell_type": "markdown",
   "metadata": {},
   "source": [
    "Easy, right? But what if you need to build a model with shared layers, branches, or multiple inputs and outputs? This is where Sequential, with its beautifully simple yet limited functionality, won't be able to help you. \n",
    "\n",
    "Next up: Enter the Functional API, your slightly more complex, highly flexible friend.  "
   ]
  },
  {
   "cell_type": "markdown",
   "metadata": {},
   "source": [
    "<a name='4'></a>\n",
    "## 4 - The Functional API"
   ]
  },
  {
   "cell_type": "markdown",
   "metadata": {},
   "source": [
    "Welcome to the second half of the assignment, where you'll use Keras' flexible [Functional API](https://www.tensorflow.org/guide/keras/functional) to build a ConvNet that can differentiate between 6 sign language digits. \n",
    "\n",
    "The Functional API can handle models with non-linear topology, shared layers, as well as layers with multiple inputs or outputs. Imagine that, where the Sequential API requires the model to move in a linear fashion through its layers, the Functional API allows much more flexibility. Where Sequential is a straight line, a Functional model is a graph, where the nodes of the layers can connect in many more ways than one. \n",
    "\n",
    "In the visual example below, the one possible direction of the movement Sequential model is shown in contrast to a skip connection, which is just one of the many ways a Functional model can be constructed. A skip connection, as you might have guessed, skips some layer in the network and feeds the output to a later layer in the network. Don't worry, you'll be spending more time with skip connections very soon! "
   ]
  },
  {
   "cell_type": "markdown",
   "metadata": {},
   "source": [
    "<img src=\"images/seq_vs_func.png\" style=\"width:350px;height:200px;\">"
   ]
  },
  {
   "cell_type": "markdown",
   "metadata": {},
   "source": [
    "<a name='4-1'></a>\n",
    "### 4.1 - Load the SIGNS Dataset\n",
    "\n",
    "As a reminder, the SIGNS dataset is a collection of 6 signs representing numbers from 0 to 5."
   ]
  },
  {
   "cell_type": "code",
   "execution_count": 12,
   "metadata": {},
   "outputs": [],
   "source": [
    "# Loading the data (signs)\n",
    "X_train_orig, Y_train_orig, X_test_orig, Y_test_orig, classes = load_signs_dataset()"
   ]
  },
  {
   "cell_type": "markdown",
   "metadata": {},
   "source": [
    "<img src=\"images/SIGNS.png\" style=\"width:800px;height:300px;\">\n",
    "\n",
    "The next cell will show you an example of a labelled image in the dataset. Feel free to change the value of `index` below and re-run to see different examples. "
   ]
  },
  {
   "cell_type": "code",
   "execution_count": 13,
   "metadata": {},
   "outputs": [
    {
     "name": "stdout",
     "output_type": "stream",
     "text": [
      "y = 4\n"
     ]
    },
    {
     "data": {
      "image/png": "[encoded data removed]",
      "text/plain": [
       "<Figure size 432x288 with 1 Axes>"
      ]
     },
     "metadata": {
      "needs_background": "light"
     },
     "output_type": "display_data"
    }
   ],
   "source": [
    "# Example of an image from the dataset\n",
    "index = 9\n",
    "plt.imshow(X_train_orig[index])\n",
    "print (\"y = \" + str(np.squeeze(Y_train_orig[:, index])))"
   ]
  },
  {
   "cell_type": "markdown",
   "metadata": {},
   "source": [
    "<a name='4-2'></a>\n",
    "### 4.2 - Split the Data into Train/Test Sets\n",
    "\n",
    "In Course 2, you built a fully-connected network for this dataset. But since this is an image dataset, it is more natural to apply a ConvNet to it.\n",
    "\n",
    "To get started, let's examine the shapes of your data. "
   ]
  },
  {
   "cell_type": "code",
   "execution_count": 14,
   "metadata": {},
   "outputs": [
    {
     "name": "stdout",
     "output_type": "stream",
     "text": [
      "number of training examples = 1080\n",
      "number of test examples = 120\n",
      "X_train shape: (1080, 64, 64, 3)\n",
      "Y_train shape: (1080, 6)\n",
      "X_test shape: (120, 64, 64, 3)\n",
      "Y_test shape: (120, 6)\n"
     ]
    }
   ],
   "source": [
    "X_train = X_train_orig/255.\n",
    "X_test = X_test_orig/255.\n",
    "Y_train = convert_to_one_hot(Y_train_orig, 6).T\n",
    "Y_test = convert_to_one_hot(Y_test_orig, 6).T\n",
    "print (\"number of training examples = \" + str(X_train.shape[0]))\n",
    "print (\"number of test examples = \" + str(X_test.shape[0]))\n",
    "print (\"X_train shape: \" + str(X_train.shape))\n",
    "print (\"Y_train shape: \" + str(Y_train.shape))\n",
    "print (\"X_test shape: \" + str(X_test.shape))\n",
    "print (\"Y_test shape: \" + str(Y_test.shape))"
   ]
  },
  {
   "cell_type": "markdown",
   "metadata": {},
   "source": [
    "<a name='4-3'></a>\n",
    "### 4.3 - Forward Propagation\n",
    "\n",
    "In TensorFlow, there are built-in functions that implement the convolution steps for you. By now, you should be familiar with how TensorFlow builds computational graphs. In the [Functional API](https://www.tensorflow.org/guide/keras/functional), you create a graph of layers. This is what allows such great flexibility.\n",
    "\n",
    "However, the following model could also be defined using the Sequential API since the information flow is on a single line. But don't deviate. What we want you to learn is to use the functional API.\n",
    "\n",
    "Begin building your graph of layers by creating an input node that functions as a callable object:\n",
    "\n",
    "- **input_img = tf.keras.Input(shape=input_shape):** \n",
    "\n",
    "Then, create a new node in the graph of layers by calling a layer on the `input_img` object: \n",
    "\n",
    "- **tf.keras.layers.Conv2D(filters= ... , kernel_size= ... , padding='same')(input_img):** Read the full documentation on [Conv2D](https://www.tensorflow.org/api_docs/python/tf/keras/layers/Conv2D).\n",
    "\n",
    "- **tf.keras.layers.MaxPool2D(pool_size=(f, f), strides=(s, s), padding='same'):** `MaxPool2D()` downsamples your input using a window of size (f, f) and strides of size (s, s) to carry out max pooling over each window.  For max pooling, you usually operate on a single example at a time and a single channel at a time. Read the full documentation on [MaxPool2D](https://www.tensorflow.org/api_docs/python/tf/keras/layers/MaxPool2D).\n",
    "\n",
    "- **tf.keras.layers.ReLU():** computes the elementwise ReLU of Z (which can be any shape). You can read the full documentation on [ReLU](https://www.tensorflow.org/api_docs/python/tf/keras/layers/ReLU).\n",
    "\n",
    "- **tf.keras.layers.Flatten()**: given a tensor \"P\", this function takes each training (or test) example in the batch and flattens it into a 1D vector.  \n",
    "\n",
    "    * If a tensor P has the shape (batch_size,h,w,c), it returns a flattened tensor with shape (batch_size, k), where $k=h \\times w \\times c$.  \"k\" equals the product of all the dimension sizes other than the first dimension.\n",
    "    \n",
    "    * For example, given a tensor with dimensions [100, 2, 3, 4], it flattens the tensor to be of shape [100, 24], where 24 = 2 * 3 * 4.  You can read the full documentation on [Flatten](https://www.tensorflow.org/api_docs/python/tf/keras/layers/Flatten).\n",
    "\n",
    "- **tf.keras.layers.Dense(units= ... , activation='softmax')(F):** given the flattened input F, it returns the output computed using a fully connected layer. You can read the full documentation on [Dense](https://www.tensorflow.org/api_docs/python/tf/keras/layers/Dense).\n",
    "\n",
    "In the last function above (`tf.keras.layers.Dense()`), the fully connected layer automatically initializes weights in the graph and keeps on training them as you train the model. Hence, you did not need to initialize those weights when initializing the parameters.\n",
    "\n",
    "Lastly, before creating the model, you'll need to define the output using the last of the function's compositions (in this example, a Dense layer): \n",
    "\n",
    "- **outputs = tf.keras.layers.Dense(units=6, activation='softmax')(F)**\n",
    "\n",
    "\n",
    "#### Window, kernel, filter, pool\n",
    "\n",
    "The words \"kernel\" and \"filter\" are used to refer to the same thing. The word \"filter\" accounts for the amount of \"kernels\" that will be used in a single convolution layer. \"Pool\" is the name of the operation that takes the max or average value of the kernels. \n",
    "\n",
    "This is why the parameter `pool_size` refers to `kernel_size`, and you use `(f,f)` to refer to the filter size. \n",
    "\n",
    "Pool size and kernel size refer to the same thing in different objects - They refer to the shape of the window where the operation takes place. "
   ]
  },
  {
   "cell_type": "markdown",
   "metadata": {},
   "source": [
    "<a name='ex-2'></a>\n",
    "### Exercise 2 - convolutional_model\n",
    "\n",
    "Implement the `convolutional_model` function below to build the following model: `CONV2D -> RELU -> MAXPOOL -> CONV2D -> RELU -> MAXPOOL -> FLATTEN -> DENSE`. Use the functions above! \n",
    "\n",
    "Also, plug in the following parameters for all the steps:\n",
    "\n",
    " - [Conv2D](https://www.tensorflow.org/api_docs/python/tf/keras/layers/Conv2D): Use 8 4 by 4 filters, stride 1, padding is \"SAME\"\n",
    " - [ReLU](https://www.tensorflow.org/api_docs/python/tf/keras/layers/ReLU)\n",
    " - [MaxPool2D](https://www.tensorflow.org/api_docs/python/tf/keras/layers/MaxPool2D): Use an 8 by 8 filter size and an 8 by 8 stride, padding is \"SAME\"\n",
    " - **Conv2D**: Use 16 2 by 2 filters, stride 1, padding is \"SAME\"\n",
    " - **ReLU**\n",
    " - **MaxPool2D**: Use a 4 by 4 filter size and a 4 by 4 stride, padding is \"SAME\"\n",
    " - [Flatten](https://www.tensorflow.org/api_docs/python/tf/keras/layers/Flatten) the previous output.\n",
    " - Fully-connected ([Dense](https://www.tensorflow.org/api_docs/python/tf/keras/layers/Dense)) layer: Apply a fully connected layer with 6 neurons and a softmax activation. "
   ]
  },
  {
   "cell_type": "code",
   "execution_count": 27,
   "metadata": {
    "deletable": false,
    "nbgrader": {
     "cell_type": "code",
     "checksum": "f58643806aa8380c96225fc8b4c5e7aa",
     "grade": false,
     "grade_id": "cell-dac51744a9e03f51",
     "locked": false,
     "schema_version": 3,
     "solution": true,
     "task": false
    }
   },
   "outputs": [],
   "source": [
    "# GRADED FUNCTION: convolutional_model\n",
    "\n",
    "def convolutional_model(input_shape):\n",
    "    \"\"\"\n",
    "    Implements the forward propagation for the model:\n",
    "    CONV2D -> RELU -> MAXPOOL -> CONV2D -> RELU -> MAXPOOL -> FLATTEN -> DENSE\n",
    "    \n",
    "    Note that for simplicity and grading purposes, you'll hard-code some values\n",
    "    such as the stride and kernel (filter) sizes. \n",
    "    Normally, functions should take these values as function parameters.\n",
    "    \n",
    "    Arguments:\n",
    "    input_img -- input dataset, of shape (input_shape)\n",
    "\n",
    "    Returns:\n",
    "    model -- TF Keras model (object containing the information for the entire training process) \n",
    "    \"\"\"\n",
    "\n",
    "    input_img = tf.keras.Input(shape=input_shape)\n",
    "    ## CONV2D: 8 filters 4x4, stride of 1, padding 'SAME'\n",
    "    # Z1 = None\n",
    "    ## RELU\n",
    "    # A1 = None\n",
    "    ## MAXPOOL: window 8x8, stride 8, padding 'SAME'\n",
    "    # P1 = None\n",
    "    ## CONV2D: 16 filters 2x2, stride 1, padding 'SAME'\n",
    "    # Z2 = None\n",
    "    ## RELU\n",
    "    # A2 = None\n",
    "    ## MAXPOOL: window 4x4, stride 4, padding 'SAME'\n",
    "    # P2 = None\n",
    "    ## FLATTEN\n",
    "    # F = None\n",
    "    ## Dense layer\n",
    "    ## 6 neurons in output layer. Hint: one of the arguments should be \"activation='softmax'\" \n",
    "    # outputs = None\n",
    "    # YOUR CODE STARTS HERE\n",
    "    Z1 = tf.keras.layers.Conv2D(filters = 8, kernel_size = (4,4), padding='same')(input_img)\n",
    "    A1 = tf.keras.layers.ReLU()(Z1)\n",
    "    P1 = tf.keras.layers.MaxPool2D(pool_size = (8,8), strides = 8, padding='same')(A1)\n",
    "    \n",
    "    Z2 = tf.keras.layers.Conv2D(filters = 16, kernel_size = (2,2), padding='same')(P1)\n",
    "    A2 = tf.keras.layers.ReLU()(Z2)\n",
    "    P2 = tf.keras.layers.MaxPool2D(pool_size = (4,4), strides = 4, padding='same')(A2)\n",
    "    \n",
    "    F = tf.keras.layers.Flatten()(P2)\n",
    "    outputs = tf.keras.layers.Dense(units= 6, activation='softmax')(F)\n",
    "    \n",
    "    \n",
    "    # YOUR CODE ENDS HERE\n",
    "    model = tf.keras.Model(inputs=input_img, outputs=outputs)\n",
    "    return model"
   ]
  },
  {
   "cell_type": "code",
   "execution_count": 28,
   "metadata": {},
   "outputs": [
    {
     "data": {
      "text/plain": [
       "<tf.Tensor 'input_9:0' shape=(None, 64, 64, 3) dtype=float32>"
      ]
     },
     "execution_count": 28,
     "metadata": {},
     "output_type": "execute_result"
    }
   ],
   "source": [
    "tf.keras.Input(shape=(64, 64, 3))"
   ]
  },
  {
   "cell_type": "code",
   "execution_count": 29,
   "metadata": {
    "deletable": false,
    "editable": false,
    "nbgrader": {
     "cell_type": "code",
     "checksum": "483d626949930a0b0ef20997e7c6ba72",
     "grade": true,
     "grade_id": "cell-45d22e92042174c9",
     "locked": true,
     "points": 10,
     "schema_version": 3,
     "solution": false,
     "task": false
    }
   },
   "outputs": [
    {
     "name": "stdout",
     "output_type": "stream",
     "text": [
      "Model: \"functional_1\"\n",
      "_________________________________________________________________\n",
      "Layer (type)                 Output Shape              Param #   \n",
      "=================================================================\n",
      "input_10 (InputLayer)        [(None, 64, 64, 3)]       0         \n",
      "_________________________________________________________________\n",
      "conv2d_6 (Conv2D)            (None, 64, 64, 8)         392       \n",
      "_________________________________________________________________\n",
      "re_lu_7 (ReLU)               (None, 64, 64, 8)         0         \n",
      "_________________________________________________________________\n",
      "max_pooling2d_5 (MaxPooling2 (None, 8, 8, 8)           0         \n",
      "_________________________________________________________________\n",
      "conv2d_7 (Conv2D)            (None, 8, 8, 16)          528       \n",
      "_________________________________________________________________\n",
      "re_lu_8 (ReLU)               (None, 8, 8, 16)          0         \n",
      "_________________________________________________________________\n",
      "max_pooling2d_6 (MaxPooling2 (None, 2, 2, 16)          0         \n",
      "_________________________________________________________________\n",
      "flatten_2 (Flatten)          (None, 64)                0         \n",
      "_________________________________________________________________\n",
      "dense (Dense)                (None, 6)                 390       \n",
      "=================================================================\n",
      "Total params: 1,310\n",
      "Trainable params: 1,310\n",
      "Non-trainable params: 0\n",
      "_________________________________________________________________\n",
      "\u001b[32mAll tests passed!\u001b[0m\n"
     ]
    }
   ],
   "source": [
    "conv_model = convolutional_model((64, 64, 3))\n",
    "conv_model.compile(optimizer='adam',\n",
    "                  loss='categorical_crossentropy',\n",
    "                  metrics=['accuracy'])\n",
    "conv_model.summary()\n",
    "    \n",
    "output = [['InputLayer', [(None, 64, 64, 3)], 0],\n",
    "        ['Conv2D', (None, 64, 64, 8), 392, 'same', 'linear', 'GlorotUniform'],\n",
    "        ['ReLU', (None, 64, 64, 8), 0],\n",
    "        ['MaxPooling2D', (None, 8, 8, 8), 0, (8, 8), (8, 8), 'same'],\n",
    "        ['Conv2D', (None, 8, 8, 16), 528, 'same', 'linear', 'GlorotUniform'],\n",
    "        ['ReLU', (None, 8, 8, 16), 0],\n",
    "        ['MaxPooling2D', (None, 2, 2, 16), 0, (4, 4), (4, 4), 'same'],\n",
    "        ['Flatten', (None, 64), 0],\n",
    "        ['Dense', (None, 6), 390, 'softmax']]\n",
    "    \n",
    "comparator(summary(conv_model), output)"
   ]
  },
  {
   "cell_type": "markdown",
   "metadata": {},
   "source": [
    "Both the Sequential and Functional APIs return a TF Keras model object. The only difference is how inputs are handled inside the object model! "
   ]
  },
  {
   "cell_type": "markdown",
   "metadata": {},
   "source": [
    "<a name='4-4'></a>\n",
    "### 4.4 - Train the Model"
   ]
  },
  {
   "cell_type": "code",
   "execution_count": 30,
   "metadata": {},
   "outputs": [
    {
     "name": "stdout",
     "output_type": "stream",
     "text": [
      "Epoch 1/100\n",
      "17/17 [==============================] - 2s 111ms/step - loss: 1.8077 - accuracy: 0.1426 - val_loss: 1.7909 - val_accuracy: 0.1833\n",
      "Epoch 2/100\n",
      "17/17 [==============================] - 2s 106ms/step - loss: 1.7902 - accuracy: 0.1565 - val_loss: 1.7832 - val_accuracy: 0.1750\n",
      "Epoch 3/100\n",
      "17/17 [==============================] - 2s 101ms/step - loss: 1.7841 - accuracy: 0.1852 - val_loss: 1.7765 - val_accuracy: 0.2417\n",
      "Epoch 4/100\n",
      "17/17 [==============================] - 2s 106ms/step - loss: 1.7770 - accuracy: 0.2639 - val_loss: 1.7706 - val_accuracy: 0.3167\n",
      "Epoch 5/100\n",
      "17/17 [==============================] - 2s 106ms/step - loss: 1.7699 - accuracy: 0.3000 - val_loss: 1.7635 - val_accuracy: 0.3583\n",
      "Epoch 6/100\n",
      "17/17 [==============================] - 2s 106ms/step - loss: 1.7615 - accuracy: 0.3509 - val_loss: 1.7547 - val_accuracy: 0.4083\n",
      "Epoch 7/100\n",
      "17/17 [==============================] - 2s 106ms/step - loss: 1.7499 - accuracy: 0.4056 - val_loss: 1.7421 - val_accuracy: 0.4333\n",
      "Epoch 8/100\n",
      "17/17 [==============================] - 2s 106ms/step - loss: 1.7345 - accuracy: 0.4204 - val_loss: 1.7275 - val_accuracy: 0.4583\n",
      "Epoch 9/100\n",
      "17/17 [==============================] - 2s 101ms/step - loss: 1.7181 - accuracy: 0.4574 - val_loss: 1.7128 - val_accuracy: 0.4917\n",
      "Epoch 10/100\n",
      "17/17 [==============================] - 2s 101ms/step - loss: 1.6966 - accuracy: 0.4796 - val_loss: 1.6914 - val_accuracy: 0.4583\n",
      "Epoch 11/100\n",
      "17/17 [==============================] - 2s 106ms/step - loss: 1.6715 - accuracy: 0.4880 - val_loss: 1.6692 - val_accuracy: 0.4583\n",
      "Epoch 12/100\n",
      "17/17 [==============================] - 2s 101ms/step - loss: 1.6413 - accuracy: 0.5046 - val_loss: 1.6417 - val_accuracy: 0.4917\n",
      "Epoch 13/100\n",
      "17/17 [==============================] - 2s 100ms/step - loss: 1.6080 - accuracy: 0.5130 - val_loss: 1.6106 - val_accuracy: 0.4917\n",
      "Epoch 14/100\n",
      "17/17 [==============================] - 2s 100ms/step - loss: 1.5698 - accuracy: 0.5120 - val_loss: 1.5746 - val_accuracy: 0.4917\n",
      "Epoch 15/100\n",
      "17/17 [==============================] - 2s 100ms/step - loss: 1.5267 - accuracy: 0.5176 - val_loss: 1.5352 - val_accuracy: 0.5167\n",
      "Epoch 16/100\n",
      "17/17 [==============================] - 2s 101ms/step - loss: 1.4802 - accuracy: 0.5324 - val_loss: 1.4910 - val_accuracy: 0.5333\n",
      "Epoch 17/100\n",
      "17/17 [==============================] - 2s 106ms/step - loss: 1.4310 - accuracy: 0.5417 - val_loss: 1.4436 - val_accuracy: 0.5333\n",
      "Epoch 18/100\n",
      "17/17 [==============================] - 2s 105ms/step - loss: 1.3795 - accuracy: 0.5667 - val_loss: 1.3961 - val_accuracy: 0.5667\n",
      "Epoch 19/100\n",
      "17/17 [==============================] - 2s 106ms/step - loss: 1.3281 - accuracy: 0.5824 - val_loss: 1.3430 - val_accuracy: 0.5750\n",
      "Epoch 20/100\n",
      "17/17 [==============================] - 2s 101ms/step - loss: 1.2779 - accuracy: 0.5972 - val_loss: 1.2944 - val_accuracy: 0.6083\n",
      "Epoch 21/100\n",
      "17/17 [==============================] - 2s 100ms/step - loss: 1.2299 - accuracy: 0.6185 - val_loss: 1.2454 - val_accuracy: 0.6167\n",
      "Epoch 22/100\n",
      "17/17 [==============================] - 2s 106ms/step - loss: 1.1834 - accuracy: 0.6231 - val_loss: 1.1976 - val_accuracy: 0.6500\n",
      "Epoch 23/100\n",
      "17/17 [==============================] - 2s 106ms/step - loss: 1.1401 - accuracy: 0.6407 - val_loss: 1.1552 - val_accuracy: 0.6417\n",
      "Epoch 24/100\n",
      "17/17 [==============================] - 2s 106ms/step - loss: 1.1008 - accuracy: 0.6509 - val_loss: 1.1146 - val_accuracy: 0.6583\n",
      "Epoch 25/100\n",
      "17/17 [==============================] - 2s 100ms/step - loss: 1.0629 - accuracy: 0.6583 - val_loss: 1.0777 - val_accuracy: 0.6750\n",
      "Epoch 26/100\n",
      "17/17 [==============================] - 2s 106ms/step - loss: 1.0279 - accuracy: 0.6667 - val_loss: 1.0385 - val_accuracy: 0.6833\n",
      "Epoch 27/100\n",
      "17/17 [==============================] - 2s 106ms/step - loss: 0.9939 - accuracy: 0.6731 - val_loss: 1.0057 - val_accuracy: 0.6917\n",
      "Epoch 28/100\n",
      "17/17 [==============================] - 2s 106ms/step - loss: 0.9637 - accuracy: 0.6917 - val_loss: 0.9726 - val_accuracy: 0.7083\n",
      "Epoch 29/100\n",
      "17/17 [==============================] - 2s 106ms/step - loss: 0.9315 - accuracy: 0.7056 - val_loss: 0.9453 - val_accuracy: 0.7250\n",
      "Epoch 30/100\n",
      "17/17 [==============================] - 2s 100ms/step - loss: 0.9035 - accuracy: 0.7157 - val_loss: 0.9161 - val_accuracy: 0.7167\n",
      "Epoch 31/100\n",
      "17/17 [==============================] - 2s 106ms/step - loss: 0.8796 - accuracy: 0.7194 - val_loss: 0.8906 - val_accuracy: 0.7417\n",
      "Epoch 32/100\n",
      "17/17 [==============================] - 2s 101ms/step - loss: 0.8549 - accuracy: 0.7296 - val_loss: 0.8679 - val_accuracy: 0.7500\n",
      "Epoch 33/100\n",
      "17/17 [==============================] - 2s 106ms/step - loss: 0.8321 - accuracy: 0.7370 - val_loss: 0.8462 - val_accuracy: 0.7583\n",
      "Epoch 34/100\n",
      "17/17 [==============================] - 2s 106ms/step - loss: 0.8121 - accuracy: 0.7417 - val_loss: 0.8270 - val_accuracy: 0.7417\n",
      "Epoch 35/100\n",
      "17/17 [==============================] - 2s 100ms/step - loss: 0.7923 - accuracy: 0.7481 - val_loss: 0.8065 - val_accuracy: 0.7667\n",
      "Epoch 36/100\n",
      "17/17 [==============================] - 2s 100ms/step - loss: 0.7718 - accuracy: 0.7537 - val_loss: 0.7877 - val_accuracy: 0.7667\n",
      "Epoch 37/100\n",
      "17/17 [==============================] - 2s 101ms/step - loss: 0.7549 - accuracy: 0.7639 - val_loss: 0.7710 - val_accuracy: 0.7750\n",
      "Epoch 38/100\n",
      "17/17 [==============================] - 2s 106ms/step - loss: 0.7385 - accuracy: 0.7685 - val_loss: 0.7541 - val_accuracy: 0.7750\n",
      "Epoch 39/100\n",
      "17/17 [==============================] - 2s 100ms/step - loss: 0.7208 - accuracy: 0.7704 - val_loss: 0.7391 - val_accuracy: 0.7750\n",
      "Epoch 40/100\n",
      "17/17 [==============================] - 2s 106ms/step - loss: 0.7053 - accuracy: 0.7741 - val_loss: 0.7255 - val_accuracy: 0.7750\n",
      "Epoch 41/100\n",
      "17/17 [==============================] - 2s 106ms/step - loss: 0.6914 - accuracy: 0.7815 - val_loss: 0.7120 - val_accuracy: 0.7750\n",
      "Epoch 42/100\n",
      "17/17 [==============================] - 2s 106ms/step - loss: 0.6771 - accuracy: 0.7870 - val_loss: 0.6992 - val_accuracy: 0.7750\n",
      "Epoch 43/100\n",
      "17/17 [==============================] - 2s 100ms/step - loss: 0.6634 - accuracy: 0.7917 - val_loss: 0.6873 - val_accuracy: 0.7833\n",
      "Epoch 44/100\n",
      "17/17 [==============================] - 2s 101ms/step - loss: 0.6505 - accuracy: 0.7954 - val_loss: 0.6762 - val_accuracy: 0.7833\n",
      "Epoch 45/100\n",
      "17/17 [==============================] - 2s 100ms/step - loss: 0.6378 - accuracy: 0.7981 - val_loss: 0.6645 - val_accuracy: 0.7750\n",
      "Epoch 46/100\n",
      "17/17 [==============================] - 2s 106ms/step - loss: 0.6258 - accuracy: 0.8000 - val_loss: 0.6552 - val_accuracy: 0.8000\n",
      "Epoch 47/100\n",
      "17/17 [==============================] - 2s 105ms/step - loss: 0.6144 - accuracy: 0.8046 - val_loss: 0.6451 - val_accuracy: 0.8167\n",
      "Epoch 48/100\n",
      "17/17 [==============================] - 2s 105ms/step - loss: 0.6040 - accuracy: 0.8102 - val_loss: 0.6355 - val_accuracy: 0.8167\n",
      "Epoch 49/100\n",
      "17/17 [==============================] - 2s 106ms/step - loss: 0.5935 - accuracy: 0.8130 - val_loss: 0.6265 - val_accuracy: 0.8167\n",
      "Epoch 50/100\n",
      "17/17 [==============================] - 2s 106ms/step - loss: 0.5837 - accuracy: 0.8194 - val_loss: 0.6185 - val_accuracy: 0.8167\n",
      "Epoch 51/100\n",
      "17/17 [==============================] - 2s 106ms/step - loss: 0.5743 - accuracy: 0.8213 - val_loss: 0.6101 - val_accuracy: 0.8167\n",
      "Epoch 52/100\n",
      "17/17 [==============================] - 2s 101ms/step - loss: 0.5654 - accuracy: 0.8222 - val_loss: 0.6020 - val_accuracy: 0.8250\n",
      "Epoch 53/100\n",
      "17/17 [==============================] - 2s 100ms/step - loss: 0.5556 - accuracy: 0.8259 - val_loss: 0.5953 - val_accuracy: 0.8250\n",
      "Epoch 54/100\n",
      "17/17 [==============================] - 2s 100ms/step - loss: 0.5475 - accuracy: 0.8306 - val_loss: 0.5875 - val_accuracy: 0.8167\n",
      "Epoch 55/100\n",
      "17/17 [==============================] - 2s 106ms/step - loss: 0.5395 - accuracy: 0.8269 - val_loss: 0.5808 - val_accuracy: 0.8250\n",
      "Epoch 56/100\n",
      "17/17 [==============================] - 2s 106ms/step - loss: 0.5314 - accuracy: 0.8324 - val_loss: 0.5740 - val_accuracy: 0.8167\n",
      "Epoch 57/100\n",
      "17/17 [==============================] - 2s 106ms/step - loss: 0.5233 - accuracy: 0.8324 - val_loss: 0.5674 - val_accuracy: 0.8167\n",
      "Epoch 58/100\n",
      "17/17 [==============================] - 2s 100ms/step - loss: 0.5157 - accuracy: 0.8352 - val_loss: 0.5609 - val_accuracy: 0.8167\n",
      "Epoch 59/100\n",
      "17/17 [==============================] - 2s 101ms/step - loss: 0.5086 - accuracy: 0.8417 - val_loss: 0.5543 - val_accuracy: 0.8167\n",
      "Epoch 60/100\n",
      "17/17 [==============================] - 2s 101ms/step - loss: 0.5017 - accuracy: 0.8481 - val_loss: 0.5490 - val_accuracy: 0.8167\n",
      "Epoch 61/100\n",
      "17/17 [==============================] - 2s 101ms/step - loss: 0.4950 - accuracy: 0.8509 - val_loss: 0.5430 - val_accuracy: 0.8250\n",
      "Epoch 62/100\n",
      "17/17 [==============================] - 2s 101ms/step - loss: 0.4887 - accuracy: 0.8491 - val_loss: 0.5381 - val_accuracy: 0.8083\n",
      "Epoch 63/100\n",
      "17/17 [==============================] - 2s 100ms/step - loss: 0.4823 - accuracy: 0.8565 - val_loss: 0.5319 - val_accuracy: 0.8167\n",
      "Epoch 64/100\n",
      "17/17 [==============================] - 2s 100ms/step - loss: 0.4761 - accuracy: 0.8565 - val_loss: 0.5274 - val_accuracy: 0.8083\n",
      "Epoch 65/100\n",
      "17/17 [==============================] - 2s 101ms/step - loss: 0.4699 - accuracy: 0.8602 - val_loss: 0.5229 - val_accuracy: 0.8250\n",
      "Epoch 66/100\n",
      "17/17 [==============================] - 2s 101ms/step - loss: 0.4649 - accuracy: 0.8630 - val_loss: 0.5179 - val_accuracy: 0.8167\n",
      "Epoch 67/100\n",
      "17/17 [==============================] - 2s 106ms/step - loss: 0.4588 - accuracy: 0.8639 - val_loss: 0.5125 - val_accuracy: 0.8250\n",
      "Epoch 68/100\n",
      "17/17 [==============================] - 2s 106ms/step - loss: 0.4530 - accuracy: 0.8648 - val_loss: 0.5077 - val_accuracy: 0.8250\n",
      "Epoch 69/100\n",
      "17/17 [==============================] - 2s 102ms/step - loss: 0.4477 - accuracy: 0.8657 - val_loss: 0.5034 - val_accuracy: 0.8333\n",
      "Epoch 70/100\n",
      "17/17 [==============================] - 2s 106ms/step - loss: 0.4431 - accuracy: 0.8648 - val_loss: 0.4990 - val_accuracy: 0.8250\n",
      "Epoch 71/100\n",
      "17/17 [==============================] - 2s 105ms/step - loss: 0.4378 - accuracy: 0.8657 - val_loss: 0.4951 - val_accuracy: 0.8250\n",
      "Epoch 72/100\n",
      "17/17 [==============================] - 2s 105ms/step - loss: 0.4324 - accuracy: 0.8657 - val_loss: 0.4906 - val_accuracy: 0.8333\n",
      "Epoch 73/100\n",
      "17/17 [==============================] - 2s 106ms/step - loss: 0.4280 - accuracy: 0.8676 - val_loss: 0.4874 - val_accuracy: 0.8250\n",
      "Epoch 74/100\n",
      "17/17 [==============================] - 2s 106ms/step - loss: 0.4238 - accuracy: 0.8676 - val_loss: 0.4837 - val_accuracy: 0.8250\n",
      "Epoch 75/100\n",
      "17/17 [==============================] - 2s 100ms/step - loss: 0.4195 - accuracy: 0.8685 - val_loss: 0.4797 - val_accuracy: 0.8250\n",
      "Epoch 76/100\n",
      "17/17 [==============================] - 2s 101ms/step - loss: 0.4147 - accuracy: 0.8694 - val_loss: 0.4761 - val_accuracy: 0.8333\n",
      "Epoch 77/100\n",
      "17/17 [==============================] - 2s 106ms/step - loss: 0.4104 - accuracy: 0.8731 - val_loss: 0.4725 - val_accuracy: 0.8333\n",
      "Epoch 78/100\n",
      "17/17 [==============================] - 2s 101ms/step - loss: 0.4063 - accuracy: 0.8741 - val_loss: 0.4681 - val_accuracy: 0.8333\n",
      "Epoch 79/100\n",
      "17/17 [==============================] - 2s 106ms/step - loss: 0.4024 - accuracy: 0.8722 - val_loss: 0.4649 - val_accuracy: 0.8333\n",
      "Epoch 80/100\n",
      "17/17 [==============================] - 2s 106ms/step - loss: 0.3985 - accuracy: 0.8778 - val_loss: 0.4613 - val_accuracy: 0.8333\n",
      "Epoch 81/100\n",
      "17/17 [==============================] - 2s 101ms/step - loss: 0.3945 - accuracy: 0.8796 - val_loss: 0.4575 - val_accuracy: 0.8417\n",
      "Epoch 82/100\n",
      "17/17 [==============================] - 2s 100ms/step - loss: 0.3906 - accuracy: 0.8787 - val_loss: 0.4539 - val_accuracy: 0.8417\n",
      "Epoch 83/100\n",
      "17/17 [==============================] - 2s 101ms/step - loss: 0.3868 - accuracy: 0.8806 - val_loss: 0.4501 - val_accuracy: 0.8417\n",
      "Epoch 84/100\n",
      "17/17 [==============================] - 2s 106ms/step - loss: 0.3834 - accuracy: 0.8806 - val_loss: 0.4469 - val_accuracy: 0.8417\n",
      "Epoch 85/100\n",
      "17/17 [==============================] - 2s 105ms/step - loss: 0.3799 - accuracy: 0.8796 - val_loss: 0.4431 - val_accuracy: 0.8417\n",
      "Epoch 86/100\n",
      "17/17 [==============================] - 2s 101ms/step - loss: 0.3762 - accuracy: 0.8815 - val_loss: 0.4397 - val_accuracy: 0.8417\n",
      "Epoch 87/100\n",
      "17/17 [==============================] - 2s 106ms/step - loss: 0.3731 - accuracy: 0.8833 - val_loss: 0.4367 - val_accuracy: 0.8417\n",
      "Epoch 88/100\n",
      "17/17 [==============================] - 2s 106ms/step - loss: 0.3696 - accuracy: 0.8833 - val_loss: 0.4342 - val_accuracy: 0.8500\n",
      "Epoch 89/100\n",
      "17/17 [==============================] - 2s 106ms/step - loss: 0.3660 - accuracy: 0.8861 - val_loss: 0.4307 - val_accuracy: 0.8500\n",
      "Epoch 90/100\n",
      "17/17 [==============================] - 2s 100ms/step - loss: 0.3630 - accuracy: 0.8870 - val_loss: 0.4277 - val_accuracy: 0.8500\n",
      "Epoch 91/100\n",
      "17/17 [==============================] - 2s 100ms/step - loss: 0.3594 - accuracy: 0.8870 - val_loss: 0.4253 - val_accuracy: 0.8500\n",
      "Epoch 92/100\n",
      "17/17 [==============================] - 2s 100ms/step - loss: 0.3555 - accuracy: 0.8880 - val_loss: 0.4224 - val_accuracy: 0.8500\n",
      "Epoch 93/100\n",
      "17/17 [==============================] - 2s 100ms/step - loss: 0.3527 - accuracy: 0.8898 - val_loss: 0.4197 - val_accuracy: 0.8500\n",
      "Epoch 94/100\n",
      "17/17 [==============================] - 2s 100ms/step - loss: 0.3503 - accuracy: 0.8898 - val_loss: 0.4170 - val_accuracy: 0.8500\n",
      "Epoch 95/100\n",
      "17/17 [==============================] - 2s 100ms/step - loss: 0.3468 - accuracy: 0.8889 - val_loss: 0.4155 - val_accuracy: 0.8500\n",
      "Epoch 96/100\n",
      "17/17 [==============================] - 2s 100ms/step - loss: 0.3434 - accuracy: 0.8926 - val_loss: 0.4124 - val_accuracy: 0.8500\n",
      "Epoch 97/100\n",
      "17/17 [==============================] - 2s 100ms/step - loss: 0.3406 - accuracy: 0.8907 - val_loss: 0.4105 - val_accuracy: 0.8500\n",
      "Epoch 98/100\n",
      "17/17 [==============================] - 2s 101ms/step - loss: 0.3378 - accuracy: 0.8954 - val_loss: 0.4085 - val_accuracy: 0.8417\n",
      "Epoch 99/100\n",
      "17/17 [==============================] - 2s 106ms/step - loss: 0.3347 - accuracy: 0.8944 - val_loss: 0.4064 - val_accuracy: 0.8417\n",
      "Epoch 100/100\n",
      "17/17 [==============================] - 2s 100ms/step - loss: 0.3320 - accuracy: 0.8963 - val_loss: 0.4037 - val_accuracy: 0.8417\n"
     ]
    }
   ],
   "source": [
    "train_dataset = tf.data.Dataset.from_tensor_slices((X_train, Y_train)).batch(64)\n",
    "test_dataset = tf.data.Dataset.from_tensor_slices((X_test, Y_test)).batch(64)\n",
    "history = conv_model.fit(train_dataset, epochs=100, validation_data=test_dataset)"
   ]
  },
  {
   "cell_type": "markdown",
   "metadata": {},
   "source": [
    "<a name='5'></a>\n",
    "## 5 - History Object \n",
    "\n",
    "The history object is an output of the `.fit()` operation, and provides a record of all the loss and metric values in memory. It's stored as a dictionary that you can retrieve at `history.history`: "
   ]
  },
  {
   "cell_type": "code",
   "execution_count": 31,
   "metadata": {},
   "outputs": [
    {
     "data": {
      "text/plain": [
       "{'loss': [1.8077105283737183,\n",
       "  1.7902333736419678,\n",
       "  1.7840849161148071,\n",
       "  1.7769896984100342,\n",
       "  1.769911289215088,\n",
       "  1.7614866495132446,\n",
       "  1.7498600482940674,\n",
       "  1.7345298528671265,\n",
       "  1.7181285619735718,\n",
       "  1.6965934038162231,\n",
       "  1.6715327501296997,\n",
       "  1.641274333000183,\n",
       "  1.607962727546692,\n",
       "  1.5698283910751343,\n",
       "  1.5267012119293213,\n",
       "  1.4801701307296753,\n",
       "  1.4309803247451782,\n",
       "  1.3795138597488403,\n",
       "  1.3280867338180542,\n",
       "  1.277939796447754,\n",
       "  1.2298747301101685,\n",
       "  1.1834441423416138,\n",
       "  1.1400936841964722,\n",
       "  1.1007920503616333,\n",
       "  1.0628811120986938,\n",
       "  1.027876853942871,\n",
       "  0.9939031600952148,\n",
       "  0.9637005925178528,\n",
       "  0.9315309524536133,\n",
       "  0.903529167175293,\n",
       "  0.8795877695083618,\n",
       "  0.8549373149871826,\n",
       "  0.8321288824081421,\n",
       "  0.8121171593666077,\n",
       "  0.792280912399292,\n",
       "  0.7718468308448792,\n",
       "  0.7549321055412292,\n",
       "  0.7385249733924866,\n",
       "  0.7208290100097656,\n",
       "  0.7052797079086304,\n",
       "  0.6914315223693848,\n",
       "  0.6770737171173096,\n",
       "  0.663449227809906,\n",
       "  0.6505364179611206,\n",
       "  0.6378380060195923,\n",
       "  0.625752329826355,\n",
       "  0.6144470572471619,\n",
       "  0.6039897203445435,\n",
       "  0.5935429930686951,\n",
       "  0.5836788415908813,\n",
       "  0.5742843151092529,\n",
       "  0.5653538703918457,\n",
       "  0.5556228160858154,\n",
       "  0.5475152730941772,\n",
       "  0.5395075678825378,\n",
       "  0.531359076499939,\n",
       "  0.5232561230659485,\n",
       "  0.5156844854354858,\n",
       "  0.5086249113082886,\n",
       "  0.5016587972640991,\n",
       "  0.4950364828109741,\n",
       "  0.488735169172287,\n",
       "  0.4822559356689453,\n",
       "  0.4760841131210327,\n",
       "  0.4699496626853943,\n",
       "  0.46485236287117004,\n",
       "  0.45881524682044983,\n",
       "  0.45304787158966064,\n",
       "  0.4477018415927887,\n",
       "  0.4431192874908447,\n",
       "  0.4377852976322174,\n",
       "  0.43240487575531006,\n",
       "  0.4280104339122772,\n",
       "  0.42376142740249634,\n",
       "  0.41952887177467346,\n",
       "  0.4146900773048401,\n",
       "  0.4104142189025879,\n",
       "  0.40627729892730713,\n",
       "  0.40235966444015503,\n",
       "  0.3984748423099518,\n",
       "  0.3944978713989258,\n",
       "  0.3906349837779999,\n",
       "  0.38676226139068604,\n",
       "  0.3833986818790436,\n",
       "  0.37992343306541443,\n",
       "  0.3761630058288574,\n",
       "  0.37307852506637573,\n",
       "  0.3695642352104187,\n",
       "  0.3660127818584442,\n",
       "  0.363038033246994,\n",
       "  0.3594130873680115,\n",
       "  0.35553663969039917,\n",
       "  0.35265445709228516,\n",
       "  0.35026291012763977,\n",
       "  0.3467658758163452,\n",
       "  0.3433939516544342,\n",
       "  0.3405744433403015,\n",
       "  0.3378176987171173,\n",
       "  0.33474093675613403,\n",
       "  0.33204635977745056],\n",
       " 'accuracy': [0.14259259402751923,\n",
       "  0.15648147463798523,\n",
       "  0.18518517911434174,\n",
       "  0.2638888955116272,\n",
       "  0.30000001192092896,\n",
       "  0.35092592239379883,\n",
       "  0.4055555462837219,\n",
       "  0.4203703701496124,\n",
       "  0.4574074149131775,\n",
       "  0.47962963581085205,\n",
       "  0.4879629611968994,\n",
       "  0.5046296119689941,\n",
       "  0.5129629373550415,\n",
       "  0.5120370388031006,\n",
       "  0.5175926089286804,\n",
       "  0.5324074029922485,\n",
       "  0.5416666865348816,\n",
       "  0.5666666626930237,\n",
       "  0.5824074149131775,\n",
       "  0.5972222089767456,\n",
       "  0.6185185313224792,\n",
       "  0.6231481432914734,\n",
       "  0.6407407522201538,\n",
       "  0.6509259343147278,\n",
       "  0.6583333611488342,\n",
       "  0.6666666865348816,\n",
       "  0.6731481552124023,\n",
       "  0.6916666626930237,\n",
       "  0.7055555582046509,\n",
       "  0.7157407402992249,\n",
       "  0.7194444537162781,\n",
       "  0.729629635810852,\n",
       "  0.7370370626449585,\n",
       "  0.7416666746139526,\n",
       "  0.7481481432914734,\n",
       "  0.7537037134170532,\n",
       "  0.7638888955116272,\n",
       "  0.7685185074806213,\n",
       "  0.770370364189148,\n",
       "  0.7740740776062012,\n",
       "  0.7814815044403076,\n",
       "  0.7870370149612427,\n",
       "  0.7916666865348816,\n",
       "  0.7953703999519348,\n",
       "  0.7981481552124023,\n",
       "  0.800000011920929,\n",
       "  0.8046296238899231,\n",
       "  0.8101851940155029,\n",
       "  0.8129629492759705,\n",
       "  0.8194444179534912,\n",
       "  0.8212962746620178,\n",
       "  0.8222222328186035,\n",
       "  0.8259259462356567,\n",
       "  0.8305555582046509,\n",
       "  0.8268518447875977,\n",
       "  0.8324074149131775,\n",
       "  0.8324074149131775,\n",
       "  0.835185170173645,\n",
       "  0.8416666388511658,\n",
       "  0.8481481671333313,\n",
       "  0.8509259223937988,\n",
       "  0.8490740656852722,\n",
       "  0.8564814925193787,\n",
       "  0.8564814925193787,\n",
       "  0.8601852059364319,\n",
       "  0.8629629611968994,\n",
       "  0.8638888597488403,\n",
       "  0.864814817905426,\n",
       "  0.8657407164573669,\n",
       "  0.864814817905426,\n",
       "  0.8657407164573669,\n",
       "  0.8657407164573669,\n",
       "  0.8675925731658936,\n",
       "  0.8675925731658936,\n",
       "  0.8685185313224792,\n",
       "  0.8694444298744202,\n",
       "  0.8731481432914734,\n",
       "  0.8740741014480591,\n",
       "  0.8722222447395325,\n",
       "  0.8777777552604675,\n",
       "  0.8796296119689941,\n",
       "  0.8787037134170532,\n",
       "  0.8805555701255798,\n",
       "  0.8805555701255798,\n",
       "  0.8796296119689941,\n",
       "  0.8814814686775208,\n",
       "  0.8833333253860474,\n",
       "  0.8833333253860474,\n",
       "  0.8861111402511597,\n",
       "  0.8870370388031006,\n",
       "  0.8870370388031006,\n",
       "  0.8879629373550415,\n",
       "  0.8898147940635681,\n",
       "  0.8898147940635681,\n",
       "  0.8888888955116272,\n",
       "  0.8925926089286804,\n",
       "  0.8907407522201538,\n",
       "  0.895370364189148,\n",
       "  0.894444465637207,\n",
       "  0.8962963223457336],\n",
       " 'val_loss': [1.7908625602722168,\n",
       "  1.783244252204895,\n",
       "  1.776461124420166,\n",
       "  1.77061128616333,\n",
       "  1.7634598016738892,\n",
       "  1.7546523809432983,\n",
       "  1.7420986890792847,\n",
       "  1.7275112867355347,\n",
       "  1.7127777338027954,\n",
       "  1.6914252042770386,\n",
       "  1.6692235469818115,\n",
       "  1.6417452096939087,\n",
       "  1.6105711460113525,\n",
       "  1.5745829343795776,\n",
       "  1.535187005996704,\n",
       "  1.4910255670547485,\n",
       "  1.4435712099075317,\n",
       "  1.3960835933685303,\n",
       "  1.3430274724960327,\n",
       "  1.29439115524292,\n",
       "  1.2453638315200806,\n",
       "  1.1975902318954468,\n",
       "  1.1551846265792847,\n",
       "  1.114550232887268,\n",
       "  1.0777016878128052,\n",
       "  1.0385419130325317,\n",
       "  1.005682110786438,\n",
       "  0.9725723266601562,\n",
       "  0.945257306098938,\n",
       "  0.9161352515220642,\n",
       "  0.890589714050293,\n",
       "  0.8678586483001709,\n",
       "  0.8461886644363403,\n",
       "  0.8269662857055664,\n",
       "  0.8065332174301147,\n",
       "  0.7877382636070251,\n",
       "  0.7710052728652954,\n",
       "  0.7540572285652161,\n",
       "  0.7390850782394409,\n",
       "  0.725460946559906,\n",
       "  0.7120407223701477,\n",
       "  0.6992381811141968,\n",
       "  0.6872711181640625,\n",
       "  0.6762071251869202,\n",
       "  0.664494514465332,\n",
       "  0.6551535129547119,\n",
       "  0.64507657289505,\n",
       "  0.6354992985725403,\n",
       "  0.6264652013778687,\n",
       "  0.6185296177864075,\n",
       "  0.6101123690605164,\n",
       "  0.6019583344459534,\n",
       "  0.5952937006950378,\n",
       "  0.5874655246734619,\n",
       "  0.5807931423187256,\n",
       "  0.5740115642547607,\n",
       "  0.5674189925193787,\n",
       "  0.5608747005462646,\n",
       "  0.5543245673179626,\n",
       "  0.5490111708641052,\n",
       "  0.5429868698120117,\n",
       "  0.5380901098251343,\n",
       "  0.5318960547447205,\n",
       "  0.5274155139923096,\n",
       "  0.5229136347770691,\n",
       "  0.5179236531257629,\n",
       "  0.5125074982643127,\n",
       "  0.5077183842658997,\n",
       "  0.503400444984436,\n",
       "  0.49903544783592224,\n",
       "  0.4951108396053314,\n",
       "  0.4905868470668793,\n",
       "  0.4873548150062561,\n",
       "  0.48369792103767395,\n",
       "  0.47969502210617065,\n",
       "  0.4761207401752472,\n",
       "  0.4724893569946289,\n",
       "  0.4681116044521332,\n",
       "  0.46491894125938416,\n",
       "  0.4613018035888672,\n",
       "  0.45752811431884766,\n",
       "  0.4538850784301758,\n",
       "  0.45013630390167236,\n",
       "  0.4469332993030548,\n",
       "  0.4430665969848633,\n",
       "  0.4396945834159851,\n",
       "  0.4366725981235504,\n",
       "  0.43422800302505493,\n",
       "  0.4306891858577728,\n",
       "  0.42772769927978516,\n",
       "  0.4252789318561554,\n",
       "  0.4223642945289612,\n",
       "  0.41968613862991333,\n",
       "  0.4169725179672241,\n",
       "  0.4154912233352661,\n",
       "  0.41238516569137573,\n",
       "  0.4104662239551544,\n",
       "  0.40848472714424133,\n",
       "  0.40636035799980164,\n",
       "  0.4037492871284485],\n",
       " 'val_accuracy': [0.18333333730697632,\n",
       "  0.17499999701976776,\n",
       "  0.24166665971279144,\n",
       "  0.3166666626930237,\n",
       "  0.3583333194255829,\n",
       "  0.40833333134651184,\n",
       "  0.4333333373069763,\n",
       "  0.4583333432674408,\n",
       "  0.49166667461395264,\n",
       "  0.4583333432674408,\n",
       "  0.4583333432674408,\n",
       "  0.49166667461395264,\n",
       "  0.49166667461395264,\n",
       "  0.49166667461395264,\n",
       "  0.5166666507720947,\n",
       "  0.5333333611488342,\n",
       "  0.5333333611488342,\n",
       "  0.5666666626930237,\n",
       "  0.574999988079071,\n",
       "  0.6083333492279053,\n",
       "  0.6166666746139526,\n",
       "  0.6499999761581421,\n",
       "  0.6416666507720947,\n",
       "  0.6583333611488342,\n",
       "  0.675000011920929,\n",
       "  0.6833333373069763,\n",
       "  0.6916666626930237,\n",
       "  0.7083333134651184,\n",
       "  0.7250000238418579,\n",
       "  0.7166666388511658,\n",
       "  0.7416666746139526,\n",
       "  0.75,\n",
       "  0.7583333253860474,\n",
       "  0.7416666746139526,\n",
       "  0.7666666507720947,\n",
       "  0.7666666507720947,\n",
       "  0.7749999761581421,\n",
       "  0.7749999761581421,\n",
       "  0.7749999761581421,\n",
       "  0.7749999761581421,\n",
       "  0.7749999761581421,\n",
       "  0.7749999761581421,\n",
       "  0.7833333611488342,\n",
       "  0.7833333611488342,\n",
       "  0.7749999761581421,\n",
       "  0.800000011920929,\n",
       "  0.8166666626930237,\n",
       "  0.8166666626930237,\n",
       "  0.8166666626930237,\n",
       "  0.8166666626930237,\n",
       "  0.8166666626930237,\n",
       "  0.824999988079071,\n",
       "  0.824999988079071,\n",
       "  0.8166666626930237,\n",
       "  0.824999988079071,\n",
       "  0.8166666626930237,\n",
       "  0.8166666626930237,\n",
       "  0.8166666626930237,\n",
       "  0.8166666626930237,\n",
       "  0.8166666626930237,\n",
       "  0.824999988079071,\n",
       "  0.8083333373069763,\n",
       "  0.8166666626930237,\n",
       "  0.8083333373069763,\n",
       "  0.824999988079071,\n",
       "  0.8166666626930237,\n",
       "  0.824999988079071,\n",
       "  0.824999988079071,\n",
       "  0.8333333134651184,\n",
       "  0.824999988079071,\n",
       "  0.824999988079071,\n",
       "  0.8333333134651184,\n",
       "  0.824999988079071,\n",
       "  0.824999988079071,\n",
       "  0.824999988079071,\n",
       "  0.8333333134651184,\n",
       "  0.8333333134651184,\n",
       "  0.8333333134651184,\n",
       "  0.8333333134651184,\n",
       "  0.8333333134651184,\n",
       "  0.8416666388511658,\n",
       "  0.8416666388511658,\n",
       "  0.8416666388511658,\n",
       "  0.8416666388511658,\n",
       "  0.8416666388511658,\n",
       "  0.8416666388511658,\n",
       "  0.8416666388511658,\n",
       "  0.8500000238418579,\n",
       "  0.8500000238418579,\n",
       "  0.8500000238418579,\n",
       "  0.8500000238418579,\n",
       "  0.8500000238418579,\n",
       "  0.8500000238418579,\n",
       "  0.8500000238418579,\n",
       "  0.8500000238418579,\n",
       "  0.8500000238418579,\n",
       "  0.8500000238418579,\n",
       "  0.8416666388511658,\n",
       "  0.8416666388511658,\n",
       "  0.8416666388511658]}"
      ]
     },
     "execution_count": 31,
     "metadata": {},
     "output_type": "execute_result"
    }
   ],
   "source": [
    "history.history"
   ]
  },
  {
   "cell_type": "markdown",
   "metadata": {},
   "source": [
    "Now visualize the loss over time using `history.history`: "
   ]
  },
  {
   "cell_type": "code",
   "execution_count": 32,
   "metadata": {},
   "outputs": [
    {
     "data": {
      "text/plain": [
       "[Text(0, 0.5, 'Accuracy'), Text(0.5, 0, 'Epoch')]"
      ]
     },
     "execution_count": 32,
     "metadata": {},
     "output_type": "execute_result"
    },
    {
     "data": {
      "image/png": "[encoded data removed]",
      "text/plain": [
       "<Figure size 864x576 with 1 Axes>"
      ]
     },
     "metadata": {
      "needs_background": "light"
     },
     "output_type": "display_data"
    },
    {
     "data": {
      "image/png": "[encoded data removed]",
      "text/plain": [
       "<Figure size 864x576 with 1 Axes>"
      ]
     },
     "metadata": {
      "needs_background": "light"
     },
     "output_type": "display_data"
    }
   ],
   "source": [
    "# The history.history[\"loss\"] entry is a dictionary with as many values as epochs that the\n",
    "# model was trained on. \n",
    "df_loss_acc = pd.DataFrame(history.history)\n",
    "df_loss= df_loss_acc[['loss','val_loss']]\n",
    "df_loss.rename(columns={'loss':'train','val_loss':'validation'},inplace=True)\n",
    "df_acc= df_loss_acc[['accuracy','val_accuracy']]\n",
    "df_acc.rename(columns={'accuracy':'train','val_accuracy':'validation'},inplace=True)\n",
    "df_loss.plot(title='Model loss',figsize=(12,8)).set(xlabel='Epoch',ylabel='Loss')\n",
    "df_acc.plot(title='Model Accuracy',figsize=(12,8)).set(xlabel='Epoch',ylabel='Accuracy')"
   ]
  },
  {
   "cell_type": "markdown",
   "metadata": {},
   "source": [
    "**Congratulations**! You've finished the assignment and built two models: One that recognizes  smiles, and another that recognizes SIGN language with almost 80% accuracy on the test set. In addition to that, you now also understand the applications of two Keras APIs: Sequential and Functional. Nicely done! \n",
    "\n",
    "By now, you know a bit about how the Functional API works and may have glimpsed the possibilities. In your next assignment, you'll really get a feel for its power when you get the opportunity to build a very deep ConvNet, using ResNets! "
   ]
  },
  {
   "cell_type": "markdown",
   "metadata": {},
   "source": [
    "<a name='6'></a>\n",
    "## 6 - Bibliography\n",
    "\n",
    "You're always encouraged to read the official documentation. To that end, you can find the docs for the Sequential and Functional APIs here: \n",
    "\n",
    "https://www.tensorflow.org/guide/keras/sequential_model\n",
    "\n",
    "https://www.tensorflow.org/guide/keras/functional"
   ]
  },
  {
   "cell_type": "code",
   "execution_count": null,
   "metadata": {},
   "outputs": [],
   "source": []
  }
 ],
 "metadata": {
  "coursera": {
   "course_slug": "convolutional-neural-networks",
   "graded_item_id": "bwbJV",
   "launcher_item_id": "0TkXB"
  },
  "kernelspec": {
   "display_name": "Python 3",
   "language": "python",
   "name": "python3"
  },
  "language_info": {
   "codemirror_mode": {
    "name": "ipython",
    "version": 3
   },
   "file_extension": ".py",
   "mimetype": "text/x-python",
   "name": "python",
   "nbconvert_exporter": "python",
   "pygments_lexer": "ipython3",
   "version": "3.7.6"
  }
 },
 "nbformat": 4,
 "nbformat_minor": 2
}
